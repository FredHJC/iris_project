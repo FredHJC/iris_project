{
 "nbformat": 4,
 "nbformat_minor": 0,
 "metadata": {
  "colab": {
   "name": "Copy of iris_update.ipynb",
   "provenance": [],
   "collapsed_sections": []
  },
  "kernelspec": {
   "name": "python3",
   "display_name": "Python 3"
  },
  "language_info": {
   "name": "python"
  }
 },
 "cells": [
  {
   "cell_type": "code",
   "metadata": {
    "id": "XWnAg0aEd3C8"
   },
   "source": [
    "import cv2\n",
    "import numpy as np\n",
    "import glob\n",
    "import pandas as pd\n",
    "\n",
    "import math\n",
    "import scipy\n",
    "from scipy.spatial import distance\n",
    "from scipy import signal\n",
    "from sklearn.discriminant_analysis import LinearDiscriminantAnalysis as LDA\n",
    "import matplotlib.pyplot as plt\n",
    "from sklearn import metrics\n",
    "import copy"
   ],
   "execution_count": 1,
   "outputs": []
  },
  {
   "cell_type": "code",
   "metadata": {
    "id": "jXfuyRInkyyj"
   },
   "source": [
    "#  !pip install unrar\n",
    "#  !unrar x CASIA.rar"
   ],
   "execution_count": 2,
   "outputs": []
  },
  {
   "cell_type": "code",
   "metadata": {
    "id": "WWt3a07J3-tU"
   },
   "source": [
    "def chunks(lst, n):\n",
    "    \"\"\"Yield successive n-sized chunks from lst.\"\"\"\n",
    "    for i in range(0, len(lst), n):\n",
    "        yield lst[i:i + n]"
   ],
   "execution_count": 3,
   "outputs": []
  },
  {
   "cell_type": "code",
   "metadata": {
    "id": "MYIf2SvP2HYO"
   },
   "source": [
    "def compute_dis(test_feature, target_feature, norm):\n",
    "  if norm == 1:\n",
    "    return np.sum(np.abs(test_feature-target_feature))\n",
    "  elif norm == 2:\n",
    "    return np.sum(np.square(test_feature-target_feature))\n",
    "  else:\n",
    "    return 1-np.dot(test_feature,target_feature.T)/(np.linalg.norm(test_feature)*np.linalg.norm(target_feature))"
   ],
   "execution_count": 4,
   "outputs": []
  },
  {
   "cell_type": "code",
   "metadata": {
    "id": "l5sFfsYI4PrB"
   },
   "source": [
    "def get_class(p, df_train, label):\n",
    "  train_templates = df_train[label].values\n",
    "  dis_1 = list(map(lambda x: compute_dis(p[label], x, 1),train_templates))\n",
    "  dis_2 = list(map(lambda x: compute_dis(p[label], x, 2),train_templates))\n",
    "  dis_cos = list(map(lambda x: compute_dis(p[label], x, 3),train_templates))\n",
    "  min_idx_1 = np.argmin(dis_1)\n",
    "  min_idx_2 = np.argmin(dis_2)\n",
    "  min_idx_cos = np.argmin(dis_cos)\n",
    "\n",
    "  p['class_1'] = list(df_train['idx'].values)[min_idx_1]\n",
    "  p['class_2'] = list(df_train['idx'].values)[min_idx_2]\n",
    "  p['cos_sim'] = min(dis_cos)[0][0]\n",
    "  p['class_cos'] = list(df_train['idx'].values)[min_idx_cos]\n",
    "  return p"
   ],
   "execution_count": 5,
   "outputs": []
  },
  {
   "cell_type": "code",
   "metadata": {
    "id": "e3Zpobb9GYz4"
   },
   "source": [
    "from IrisLocalization import IrisLocalization\n",
    "from IrisNormalization import IrisNormalization\n",
    "from ImageEnhancement import ImageEnhancement\n",
    "from FeatureExtraction import FeatureExtraction\n",
    "# from IrisMatching import IrisMatching\n",
    "# from PerformanceEvaluation import PerformanceEvaluation"
   ],
   "execution_count": 6,
   "outputs": []
  },
  {
   "cell_type": "code",
   "metadata": {
    "pycharm": {
     "name": "#%%\n"
    },
    "id": "Gdj3bJA_Uabf",
    "colab": {
     "base_uri": "https://localhost:8080/"
    },
    "outputId": "76dc293f-64a7-4a3f-f42f-c2c5b1a81b9b"
   },
   "source": [
    "images_train = [cv2.imread(file) for file in sorted(glob.glob('CASIA Iris Image Database (version 1.0)/*/1/*.bmp'))]\n",
    "#running Localization, Normalization,Enhancement and Feature Extraction on all the training images\n",
    "boundary_train,centers_train=IrisLocalization(images_train)\n",
    "normalized_train=IrisNormalization(boundary_train,centers_train, True)\n",
    "# rotate_train = sum(list(map(lambda p: getRotation(p, [-9,-6,-3,0,3,6,9]), normalized_train.copy())), [])\n",
    "enhanced_train=ImageEnhancement(normalized_train)\n",
    "feature_vector_train=FeatureExtraction(enhanced_train)\n",
    "print(\"Training data processed.\")\n",
    "\n",
    "'''TESTING'''\n",
    "\n",
    "#reading the testing images from the CASIA dataset\n",
    "images_test = [cv2.imread(file) for file in sorted(glob.glob('CASIA Iris Image Database (version 1.0)/*/2/*.bmp'))]\n",
    "\n",
    "#running Localization, Normalization,Enhancement and Feature Extraction on all the testing images\n",
    "boundary_test,centers_test=IrisLocalization(images_test)\n",
    "normalized_test=IrisNormalization(boundary_test,centers_test, False)\n",
    "enhanced_test=ImageEnhancement(normalized_test)\n",
    "feature_vector_test=FeatureExtraction(enhanced_test)\n",
    "print(\"Testing data processed.\")"
   ],
   "execution_count": 7,
   "outputs": [
    {
     "name": "stderr",
     "output_type": "stream",
     "text": [
      "/Users/fred/opt/anaconda3/lib/python3.7/site-packages/numpy/core/fromnumeric.py:3441: RuntimeWarning: Mean of empty slice.\n",
      "  out=out, **kwargs)\n",
      "/Users/fred/opt/anaconda3/lib/python3.7/site-packages/numpy/core/_methods.py:182: RuntimeWarning: invalid value encountered in true_divide\n",
      "  ret, rcount, out=ret, casting='unsafe', subok=False)\n"
     ]
    },
    {
     "name": "stdout",
     "output_type": "stream",
     "text": [
      "Training data processed.\n",
      "Testing data processed.\n"
     ]
    }
   ]
  },
  {
   "cell_type": "code",
   "metadata": {
    "id": "1BN9zSk-HGSy"
   },
   "source": [
    "sliced_res_train = list(chunks(feature_vector_train,21))\n",
    "\n",
    "list_of_dataframes_train = []\n",
    "for i, eyes in enumerate(sliced_res_train):\n",
    "# i from 0 to 107\n",
    "    sliced_eyes = list(chunks(eyes,7))\n",
    "    for j, eye in enumerate(sliced_eyes):\n",
    "        # j from 0 to 3\n",
    "        degree = [-9,-6,-3,0,3,6,9]\n",
    "        img_idx = [j]*7\n",
    "        idx = [i]*7\n",
    "        df_tmp = pd.DataFrame({'idx':idx, 'img_idx':img_idx, 'degree':degree, 'feature': eye })\n",
    "        list_of_dataframes_train.append(df_tmp)\n",
    "df_train = pd.concat(list_of_dataframes_train)"
   ],
   "execution_count": 8,
   "outputs": []
  },
  {
   "cell_type": "code",
   "metadata": {
    "id": "7QhJi7oRHlQo"
   },
   "source": [
    "sliced_res_test = list(chunks(feature_vector_test,4))\n",
    "\n",
    "list_of_dataframes_test = []\n",
    "for i, eyes in enumerate(sliced_res_test):\n",
    "# i from 0 to 107\n",
    "    for j, eye in enumerate(eyes):\n",
    "        # j from 0 to 3\n",
    "        img_idx = [j]\n",
    "        idx = [i]\n",
    "        df_tmp = pd.DataFrame({'idx':idx, 'img_idx':img_idx, 'feature':[np.array(eye)]})\n",
    "        list_of_dataframes_test.append(df_tmp)\n",
    "      \n",
    "df_test = pd.concat(list_of_dataframes_test)"
   ],
   "execution_count": 9,
   "outputs": []
  },
  {
   "cell_type": "code",
   "metadata": {
    "pycharm": {
     "name": "#%%\n"
    },
    "id": "7KMDZZH2Uabh"
   },
   "source": [
    "from sklearn.discriminant_analysis import LinearDiscriminantAnalysis as LDA"
   ],
   "execution_count": 10,
   "outputs": []
  },
  {
   "cell_type": "code",
   "metadata": {
    "pycharm": {
     "name": "#%%\n"
    },
    "id": "lDN40d0gUabi"
   },
   "source": [
    "clf = LDA(n_components=100)\n",
    "clf.fit(list(df_train['feature'].values), list(df_train['idx'].values))\n",
    "df_train['reduced_feature']=df_train['feature'].apply(lambda x: clf.transform(np.array(x).reshape(1, -1)))\n",
    "df_test['reduced_feature']=df_test['feature'].apply(lambda x: clf.transform(np.array(x).reshape(1, -1)))"
   ],
   "execution_count": 11,
   "outputs": []
  },
  {
   "cell_type": "code",
   "metadata": {
    "id": "suFBmd-Ea8cS"
   },
   "source": [
    "def get_crr(class_lab1,class_lab2,class_lab3,target_lab):\n",
    "    crr_1 = sum(target_lab==class_lab1)/len(target_lab) * 100\n",
    "    crr_2 = sum(target_lab==class_lab2)/len(target_lab) * 100\n",
    "    crr_3 = sum(target_lab==class_lab3)/len(target_lab) * 100\n",
    "    return crr_1,crr_2,crr_3"
   ],
   "execution_count": 12,
   "outputs": []
  },
  {
   "cell_type": "code",
   "metadata": {
    "colab": {
     "base_uri": "https://localhost:8080/",
     "height": 430
    },
    "id": "JnSQA-xabAYa",
    "outputId": "c43d2cce-bab8-4f25-9f77-0a036be252d2"
   },
   "source": [
    "# n_component = range(40,101,10)\n",
    "# L1_crr = []\n",
    "# L2_crr = []\n",
    "# cos_crr = []\n",
    "# df_dic = {}\n",
    "# for i in range(len(n_component)):\n",
    "#     clf = LDA(n_components=n_component[i])\n",
    "#     clf.fit(list(df_train['feature'].values), list(df_train['idx'].values))\n",
    "#     df_train['reduced_feature']=df_train['feature'].apply(lambda x: clf.transform(np.array(x).reshape(1, -1)))\n",
    "#     df_test['reduced_feature']=df_test['feature'].apply(lambda x: clf.transform(np.array(x).reshape(1, -1)))\n",
    "#\n",
    "#     # Class labels using L1,L2, and Cosine Similarity measures\n",
    "#     df_test = df_test.apply(lambda x: get_class(x, df_train.copy(), 'reduced_feature'), axis=1)\n",
    "#     # df_test = df_test.apply(lambda x: get_class(x, df_train.copy(), 'reduced_feature', 2), axis=1)\n",
    "#     # df_test = df_test.apply(lambda x: get_class(x, df_train.copy(), 'reduced_feature', 3), axis=1)\n",
    "#\n",
    "#     crr_1,crr_2,crr_3 = get_crr(df_test['class_1'],df_test['class_2'],df_test['class_cos'],df_test['idx'])\n",
    "#     L1_crr.append(crr_1)\n",
    "#     L2_crr.append(crr_2)\n",
    "#     cos_crr.append(crr_3)\n",
    "#\n",
    "#     df_dic[n_component[i]] = df_test\n"
   ],
   "execution_count": 14,
   "outputs": []
  },
  {
   "cell_type": "code",
   "metadata": {
    "id": "e6V09mvuktSm"
   },
   "source": [
    "L1_crr = []\n",
    "L2_crr = []\n",
    "cos_crr = []\n",
    "df_dic = {}\n",
    "clf = LDA(n_components=100)\n",
    "clf.fit(list(df_train['feature'].values), list(df_train['idx'].values))\n",
    "df_train['reduced_feature']=df_train['feature'].apply(lambda x: clf.transform(np.array(x).reshape(1, -1)))\n",
    "df_test['reduced_feature']=df_test['feature'].apply(lambda x: clf.transform(np.array(x).reshape(1, -1)))\n",
    "\n",
    "# Class labels using L1,L2, and Cosine Similarity measures\n",
    "df_test = df_test.apply(lambda x: get_class(x, df_train.copy(), 'reduced_feature'), axis=1)\n",
    "# df_test = df_test.apply(lambda x: get_class(x, df_train.copy(), 'reduced_feature', 2), axis=1)\n",
    "# df_test = df_test.apply(lambda x: get_class(x, df_train.copy(), 'reduced_feature', 3), axis=1)\n",
    "\n",
    "crr_1,crr_2,crr_3 = get_crr(df_test['class_1'],df_test['class_2'],df_test['class_cos'],df_test['idx'])\n",
    "L1_crr.append(crr_1)\n",
    "L2_crr.append(crr_2)\n",
    "cos_crr.append(crr_3)\n",
    "\n",
    "df_dic[100] = df_test"
   ],
   "execution_count": 15,
   "outputs": []
  },
  {
   "cell_type": "code",
   "metadata": {
    "colab": {
     "base_uri": "https://localhost:8080/",
     "height": 340
    },
    "id": "19LLV-K1dBU1",
    "outputId": "8a260d85-d391-452b-8cc1-058c01c75e57"
   },
   "source": [
    "df_test.head()"
   ],
   "execution_count": 16,
   "outputs": [
    {
     "data": {
      "text/plain": "   idx  img_idx                                            feature  \\\n0    0        0  [2.6933103933794538, 1.5867874645006035, 2.454...   \n0    0        1  [2.6160163952741815, 1.699530664977702, 2.3753...   \n0    0        2  [2.657925630714464, 1.7006351415568206, 2.4048...   \n0    0        3  [2.6893647728642973, 1.601359019915468, 2.4632...   \n0    1        0  [2.6230213611863418, 1.5136382692433439, 2.390...   \n\n                                     reduced_feature  class_1  class_2  \\\n0  [[4.053142889279266, 3.3744120965820117, 7.995...        0        0   \n0  [[-18.632908508187832, -15.2773042183355, -17....        0        0   \n0  [[-12.404171762906278, -5.246513429669791, -13...       49        0   \n0  [[-8.803856171017781, -1.5303744768311547, -16...        0        0   \n0  [[12.64201467022057, -9.861742074793032, -4.71...        1        1   \n\n    cos_sim  class_cos  \n0  0.596643          0  \n0  0.513458          0  \n0  0.642057          0  \n0  0.358244          0  \n0  0.547586          1  ",
      "text/html": "<div>\n<style scoped>\n    .dataframe tbody tr th:only-of-type {\n        vertical-align: middle;\n    }\n\n    .dataframe tbody tr th {\n        vertical-align: top;\n    }\n\n    .dataframe thead th {\n        text-align: right;\n    }\n</style>\n<table border=\"1\" class=\"dataframe\">\n  <thead>\n    <tr style=\"text-align: right;\">\n      <th></th>\n      <th>idx</th>\n      <th>img_idx</th>\n      <th>feature</th>\n      <th>reduced_feature</th>\n      <th>class_1</th>\n      <th>class_2</th>\n      <th>cos_sim</th>\n      <th>class_cos</th>\n    </tr>\n  </thead>\n  <tbody>\n    <tr>\n      <th>0</th>\n      <td>0</td>\n      <td>0</td>\n      <td>[2.6933103933794538, 1.5867874645006035, 2.454...</td>\n      <td>[[4.053142889279266, 3.3744120965820117, 7.995...</td>\n      <td>0</td>\n      <td>0</td>\n      <td>0.596643</td>\n      <td>0</td>\n    </tr>\n    <tr>\n      <th>0</th>\n      <td>0</td>\n      <td>1</td>\n      <td>[2.6160163952741815, 1.699530664977702, 2.3753...</td>\n      <td>[[-18.632908508187832, -15.2773042183355, -17....</td>\n      <td>0</td>\n      <td>0</td>\n      <td>0.513458</td>\n      <td>0</td>\n    </tr>\n    <tr>\n      <th>0</th>\n      <td>0</td>\n      <td>2</td>\n      <td>[2.657925630714464, 1.7006351415568206, 2.4048...</td>\n      <td>[[-12.404171762906278, -5.246513429669791, -13...</td>\n      <td>49</td>\n      <td>0</td>\n      <td>0.642057</td>\n      <td>0</td>\n    </tr>\n    <tr>\n      <th>0</th>\n      <td>0</td>\n      <td>3</td>\n      <td>[2.6893647728642973, 1.601359019915468, 2.4632...</td>\n      <td>[[-8.803856171017781, -1.5303744768311547, -16...</td>\n      <td>0</td>\n      <td>0</td>\n      <td>0.358244</td>\n      <td>0</td>\n    </tr>\n    <tr>\n      <th>0</th>\n      <td>1</td>\n      <td>0</td>\n      <td>[2.6230213611863418, 1.5136382692433439, 2.390...</td>\n      <td>[[12.64201467022057, -9.861742074793032, -4.71...</td>\n      <td>1</td>\n      <td>1</td>\n      <td>0.547586</td>\n      <td>1</td>\n    </tr>\n  </tbody>\n</table>\n</div>"
     },
     "execution_count": 16,
     "metadata": {},
     "output_type": "execute_result"
    }
   ]
  },
  {
   "cell_type": "code",
   "metadata": {
    "id": "hwU1AM_wbBjr"
   },
   "source": [
    "# plt.plot(n_component,L1_crr,label='L1')\n",
    "# plt.plot(n_component,L2_crr,label='L2')\n",
    "# plt.plot(n_component,cos_crr,label='Cosine')\n",
    "\n",
    "# plt.legend(loc = 'upper left')\n",
    "# plt.xlabel(\"Dimensionality of the Feature Vector\")\n",
    "# plt.ylabel('Correct Recognition Rate')\n",
    "# plt.title('Dimensionality vs. CRR')\n",
    "# plt.show()"
   ],
   "execution_count": null,
   "outputs": []
  },
  {
   "cell_type": "code",
   "metadata": {
    "id": "egqscuohdmvz"
   },
   "source": [],
   "execution_count": null,
   "outputs": []
  },
  {
   "cell_type": "code",
   "metadata": {
    "id": "ARuYWGKBbEYZ"
   },
   "source": [
    "# Using feature number = 100 would perform the best result\n",
    "# clf = LDA(n_components=100)\n",
    "# clf.fit(list(df_train['feature'].values), list(df_train['idx'].values))\n",
    "# df_train['reduced_feature']=df_train['feature'].apply(lambda x: clf.transform(np.array(x).reshape(1, -1)))\n",
    "# df_test['reduced_feature']=df_test['feature'].apply(lambda x: clf.transform(np.array(x).reshape(1, -1)))\n",
    "\n",
    "# # Class labels through L1,L2, and Cosine Similarity measures\n",
    "# class1 = df_test['reduced_feature'].apply(lambda x: get_class(df_train.copy(), x, 'reduced_feature', 1))\n",
    "# class2 = df_test['reduced_feature'].apply(lambda x: get_class(df_train.copy(), x, 'reduced_feature', 2))\n",
    "# cos_sim, class3 = df_test['reduced_feature'].apply(lambda x: get_class(df_train.copy(), x, 'reduced_feature', 3))\n",
    "\n",
    "df_result = df_dic[100]\n",
    "class1, class2, cos_sim, class_cos = df_result['class_1'].values, df_result['class_2'].values, df_result['cos_sim'].values, df_result['class_cos'].values"
   ],
   "execution_count": 18,
   "outputs": []
  },
  {
   "cell_type": "code",
   "metadata": {
    "id": "DumnjnGfbGGm"
   },
   "source": [
    "crr_rates = list(get_crr(class1,class2,class_cos,df_test['idx']))"
   ],
   "execution_count": 19,
   "outputs": []
  },
  {
   "cell_type": "code",
   "metadata": {
    "colab": {
     "base_uri": "https://localhost:8080/",
     "height": 210
    },
    "id": "NixOz8HmbHUU",
    "outputId": "50673f3f-006e-4619-df3c-9da73723d9f6"
   },
   "source": [
    "print('\\n\\n')\n",
    "dict={'Similarity Measure':['L1 distance measure','L2 distance measure','Cosine similarity measure'],'Reduced Feature Set':[crr_rates[0],crr_rates[1],crr_rates[2]]}\n",
    "table=pd.DataFrame(dict)\n",
    "print (\"Correct recognition rate (%):\")\n",
    "table"
   ],
   "execution_count": 20,
   "outputs": [
    {
     "name": "stdout",
     "output_type": "stream",
     "text": [
      "\n",
      "\n",
      "\n",
      "Correct recognition rate (%):\n"
     ]
    },
    {
     "data": {
      "text/plain": "          Similarity Measure  Reduced Feature Set\n0        L1 distance measure            68.981481\n1        L2 distance measure            71.527778\n2  Cosine similarity measure            73.611111",
      "text/html": "<div>\n<style scoped>\n    .dataframe tbody tr th:only-of-type {\n        vertical-align: middle;\n    }\n\n    .dataframe tbody tr th {\n        vertical-align: top;\n    }\n\n    .dataframe thead th {\n        text-align: right;\n    }\n</style>\n<table border=\"1\" class=\"dataframe\">\n  <thead>\n    <tr style=\"text-align: right;\">\n      <th></th>\n      <th>Similarity Measure</th>\n      <th>Reduced Feature Set</th>\n    </tr>\n  </thead>\n  <tbody>\n    <tr>\n      <th>0</th>\n      <td>L1 distance measure</td>\n      <td>68.981481</td>\n    </tr>\n    <tr>\n      <th>1</th>\n      <td>L2 distance measure</td>\n      <td>71.527778</td>\n    </tr>\n    <tr>\n      <th>2</th>\n      <td>Cosine similarity measure</td>\n      <td>73.611111</td>\n    </tr>\n  </tbody>\n</table>\n</div>"
     },
     "execution_count": 20,
     "metadata": {},
     "output_type": "execute_result"
    }
   ]
  },
  {
   "cell_type": "code",
   "metadata": {
    "id": "TvUu7HChbi8I"
   },
   "source": [],
   "execution_count": 20,
   "outputs": []
  },
  {
   "cell_type": "code",
   "execution_count": 21,
   "outputs": [
    {
     "data": {
      "text/plain": "[<matplotlib.lines.Line2D at 0x7f9f375e0b50>]"
     },
     "execution_count": 21,
     "metadata": {},
     "output_type": "execute_result"
    },
    {
     "data": {
      "text/plain": "<Figure size 432x288 with 1 Axes>",
      "image/png": "[encoded data removed]"
     },
     "metadata": {
      "needs_background": "light"
     },
     "output_type": "display_data"
    }
   ],
   "source": [
    "def test_match(threshold, x):\n",
    "  if x['cos_sim']<=threshold:\n",
    "    return 1\n",
    "  else:\n",
    "    return 0\n",
    "\n",
    "def ROC(threshold, df):\n",
    "  df['match'] = df.apply(lambda x: test_match(threshold, x), axis=1)\n",
    "  n = df.shape[0]\n",
    "  positive = df[df['idx']==df['class_cos']].shape[0]\n",
    "  negative = n - positive\n",
    "  tp = df[(df['match']==1)&(df['idx']==df['class_cos'])].shape[0]\n",
    "  fp = df[(df['match']==1)&(df['idx']!=df['class_cos'])].shape[0]\n",
    "  fn = df[(df['match']==0)&(df['idx']==df['class_cos'])].shape[0]\n",
    "\n",
    "  fpr = fp/negative\n",
    "  fnr = fn/positive\n",
    "  tpr = tp/(tp+fn)\n",
    "\n",
    "  return fpr, tpr\n",
    "\n",
    "\n",
    "fpr_res = []\n",
    "tpr_res = []\n",
    "for threshold in np.linspace(0,1,10):\n",
    "  fpr, tpr = ROC(threshold, df_test)\n",
    "  fpr_res.append(fpr)\n",
    "  tpr_res.append(tpr)\n",
    "\n",
    "plt.plot(fpr_res, tpr_res)"
   ],
   "metadata": {
    "collapsed": false,
    "pycharm": {
     "name": "#%%\n"
    }
   }
  },
  {
   "cell_type": "code",
   "execution_count": null,
   "outputs": [],
   "source": [],
   "metadata": {
    "collapsed": false,
    "pycharm": {
     "name": "#%%\n"
    }
   }
  }
 ]
}